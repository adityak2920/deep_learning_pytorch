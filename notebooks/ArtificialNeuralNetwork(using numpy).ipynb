{
 "cells": [
  {
   "cell_type": "code",
   "execution_count": 1,
   "metadata": {},
   "outputs": [],
   "source": [
    "from numpy import random, dot, exp, array\n",
    "import matplotlib.pyplot as plt\n",
    "%matplotlib inline\n",
    "import pandas as pd"
   ]
  },
  {
   "cell_type": "code",
   "execution_count": 3,
   "metadata": {},
   "outputs": [
    {
     "data": {
      "image/png": "[encoded data removed]",
      "text/plain": [
       "<Figure size 432x288 with 1 Axes>"
      ]
     },
     "metadata": {},
     "output_type": "display_data"
    },
    {
     "name": "stdout",
     "output_type": "stream",
     "text": [
      "[[0.99525548 0.0087826 ]]\n"
     ]
    }
   ],
   "source": [
    "class NeuralNetwork:\n",
    "    def __init__(self, gateInput, gateOutput):\n",
    "        random.seed(1)\n",
    "        \n",
    "        self.gateInput=gateInput\n",
    "        self.gateOutput=gateOutput\n",
    "        self.input_shape=(1, 3)\n",
    "        self.output_shape=(1, 2)\n",
    "        self.layer1_nodes=5\n",
    "        self.layer2_nodes=5\n",
    "        self.layer3_nodes=5\n",
    "        \n",
    "        \n",
    "        self.weights1 = 2*random.random((self.input_shape[1], self.layer1_nodes)) -1\n",
    "        self.weights2 = 2*random.random((self.layer1_nodes, self.layer2_nodes)) -1\n",
    "        self.weights3 = 2*random.random((self.layer2_nodes, self.layer3_nodes)) -1\n",
    "        self.out_weights = 2*random.random((self.layer3_nodes, self.output_shape[1])) -1\n",
    "        \n",
    "    \n",
    "    def sigmoid(self, x):\n",
    "        return 1 / (1 + exp(-x))\n",
    "    \n",
    "    \n",
    "    def sigmoid_derivative(self, x):\n",
    "        return x * (1-x)\n",
    "    \n",
    "    \n",
    "    def think(self, x):\n",
    "        layer1=self.sigmoid(dot(x, self.weights1))\n",
    "        layer2=self.sigmoid(dot(layer1, self.weights2))\n",
    "        layer3=self.sigmoid(dot(layer2, self.weights3))\n",
    "        output=self.sigmoid(dot(layer3, self.out_weights))\n",
    "        return output\n",
    "        \n",
    "        \n",
    "    def train(self, num):\n",
    "        errors=[]\n",
    "        for ix in range(num):\n",
    "            layer1=self.sigmoid(dot(self.gateInput, self.weights1))\n",
    "            layer2=self.sigmoid(dot(layer1, self.weights2))\n",
    "            layer3=self.sigmoid(dot(layer2, self.weights3))\n",
    "            output=self.sigmoid(dot(layer3, self.out_weights))\n",
    "            \n",
    "            \n",
    "            output_error=self.gateOutput-output\n",
    "            error=((output_error**2).sum())/2*self.output_shape[0]\n",
    "            errors.append(error)\n",
    "            \n",
    "            delta=output_error*self.sigmoid_derivative(output)\n",
    "            \n",
    "            out_weights_adjustment=dot(layer3.T, delta)\n",
    "            \n",
    "            delta=dot(delta, self.out_weights.T)*self.sigmoid_derivative(layer3)            \n",
    "            weights_adjustment3=dot(layer2.T,delta)\n",
    "            \n",
    "            delta=dot(delta, self.weights3.T)*self.sigmoid_derivative(layer2)            \n",
    "            weights_adjustment2=dot(layer1.T,delta)\n",
    "            \n",
    "            delta=dot(delta, self.weights2.T)*self.sigmoid_derivative(layer1)            \n",
    "            weights_adjustment1=dot(self.gateInput.T,delta)\n",
    "            self.out_weights += out_weights_adjustment\n",
    "            self.weights1 += weights_adjustment1\n",
    "            self.weights3 += weights_adjustment3\n",
    "            self.weights2 += weights_adjustment2            \n",
    "        return errors\n",
    "    \n",
    "    \n",
    "if __name__ == '__main__':\n",
    "    file = pd.read_csv(\"/Users/adityakumar/Desktop/ML/dataset.txt\", delimiter=',')\n",
    "\n",
    "    dataset = file.values\n",
    "\n",
    "    gateInput = dataset[:,:3]\n",
    "    gateOutput = dataset[:,3:]\n",
    "\n",
    "    neural_network = NeuralNetwork(gateInput, gateOutput)\n",
    "\n",
    "    err = neural_network.train(6000)\n",
    "    plt.plot(err)\n",
    "    plt.show()\n",
    "      # Should be 0 , 1\n",
    "    print(neural_network.think([[0,1,1]]))\n",
    "            \n",
    "            \n",
    "        "
   ]
  },
  {
   "cell_type": "code",
   "execution_count": null,
   "metadata": {},
   "outputs": [],
   "source": []
  }
 ],
 "metadata": {
  "kernelspec": {
   "display_name": "Python 3",
   "language": "python",
   "name": "python3"
  },
  "language_info": {
   "codemirror_mode": {
    "name": "ipython",
    "version": 3
   },
   "file_extension": ".py",
   "mimetype": "text/x-python",
   "name": "python",
   "nbconvert_exporter": "python",
   "pygments_lexer": "ipython3",
   "version": "3.6.6"
  }
 },
 "nbformat": 4,
 "nbformat_minor": 2
}
