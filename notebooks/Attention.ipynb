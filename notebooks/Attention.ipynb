{
 "cells": [
  {
   "cell_type": "code",
   "execution_count": 1,
   "metadata": {},
   "outputs": [],
   "source": [
    "import numpy as np\n",
    "import torch\n",
    "import torch.nn as nn\n",
    "from torch.autograd import Variable\n",
    "import matplotlib.pyplot as plt\n",
    "%matplotlib inline\n",
    "import torch.nn.functional as F\n",
    "import pandas as pd\n",
    "import seaborn as sns"
   ]
  },
  {
   "cell_type": "code",
   "execution_count": 2,
   "metadata": {},
   "outputs": [],
   "source": [
    "def generate_data(N, dim=32, attention_col=1):\n",
    "    x= np.random.standard_normal(size=(N, dim))\n",
    "    y= np.random.randint(low=10, high=15, size=(N, 1))\n",
    "    \n",
    "    x[:, attention_col]=y[:, 0]\n",
    "    return x, y"
   ]
  },
  {
   "cell_type": "code",
   "execution_count": 3,
   "metadata": {},
   "outputs": [],
   "source": [
    "class Net(nn.Module):\n",
    "    def __init__(self, ndim=32):\n",
    "        super(Net, self).__init__()\n",
    "        self.attention=nn.Linear(ndim, ndim)\n",
    "        self.out=nn.Linear(ndim, 1)\n",
    "        \n",
    "    def atten(self, x):\n",
    "        p=F.softmax(self.attention(x))\n",
    "        return p\n",
    "    \n",
    "    def forward(self, x):\n",
    "        x = x*self.atten(x)\n",
    "        x = self.out(x)\n",
    "        return x"
   ]
  },
  {
   "cell_type": "code",
   "execution_count": 4,
   "metadata": {},
   "outputs": [],
   "source": [
    "model = Net(ndim=64)"
   ]
  },
  {
   "cell_type": "code",
   "execution_count": 5,
   "metadata": {},
   "outputs": [],
   "source": [
    "X, y = generate_data(1000, dim=64, attention_col=0)\n",
    "#print(X)\n",
    "#print(y)"
   ]
  },
  {
   "cell_type": "code",
   "execution_count": 6,
   "metadata": {},
   "outputs": [],
   "source": [
    "optimizer = torch.optim.Adam(model.parameters(), lr=0.001)\n",
    "loss_func = torch.nn.MSELoss()"
   ]
  },
  {
   "cell_type": "code",
   "execution_count": 7,
   "metadata": {},
   "outputs": [
    {
     "name": "stderr",
     "output_type": "stream",
     "text": [
      "/Users/adityakumar/Library/Python/2.7/lib/python/site-packages/ipykernel_launcher.py:8: UserWarning: Implicit dimension choice for softmax has been deprecated. Change the call to include dim=X as an argument.\n",
      "  \n"
     ]
    },
    {
     "name": "stdout",
     "output_type": "stream",
     "text": [
      "(0, tensor(144.1709))\n",
      "(300, tensor(38.3219))\n",
      "(600, tensor(8.5393))\n",
      "(900, tensor(1.3664))\n",
      "(1200, tensor(0.1367))\n",
      "(1500, tensor(1.00000e-02 *\n",
      "       1.0043))\n",
      "(1800, tensor(1.00000e-03 *\n",
      "       2.7816))\n",
      "(2100, tensor(1.00000e-03 *\n",
      "       2.5164))\n",
      "(2400, tensor(1.00000e-03 *\n",
      "       2.4474))\n",
      "(2700, tensor(1.00000e-03 *\n",
      "       2.3573))\n",
      "(3000, tensor(1.00000e-03 *\n",
      "       2.2184))\n",
      "(3300, tensor(1.00000e-03 *\n",
      "       2.0835))\n",
      "(3600, tensor(1.00000e-03 *\n",
      "       1.9192))\n",
      "(3900, tensor(1.00000e-03 *\n",
      "       1.7109))\n",
      "(4200, tensor(1.00000e-03 *\n",
      "       1.4847))\n",
      "(4500, tensor(1.00000e-03 *\n",
      "       1.2736))\n",
      "(4800, tensor(1.00000e-03 *\n",
      "       1.0692))\n",
      "(5100, tensor(1.00000e-04 *\n",
      "       8.7382))\n",
      "(5400, tensor(1.00000e-04 *\n",
      "       7.1130))\n",
      "(5700, tensor(1.00000e-04 *\n",
      "       5.8743))\n"
     ]
    }
   ],
   "source": [
    "for epoch in range(6000):\n",
    "    pred = model(torch.FloatTensor(X))\n",
    "    \n",
    "    loss=loss_func(pred, torch.FloatTensor(y))\n",
    "    optimizer.zero_grad()\n",
    "    \n",
    "    loss.backward()\n",
    "    optimizer.step()\n",
    "    \n",
    "    if epoch%300==0:\n",
    "        print(epoch, loss)"
   ]
  },
  {
   "cell_type": "code",
   "execution_count": 8,
   "metadata": {},
   "outputs": [
    {
     "name": "stdout",
     "output_type": "stream",
     "text": [
      "torch.Size([1000, 1])\n",
      "torch.Size([1000, 64])\n"
     ]
    },
    {
     "name": "stderr",
     "output_type": "stream",
     "text": [
      "/Users/adityakumar/Library/Python/2.7/lib/python/site-packages/ipykernel_launcher.py:8: UserWarning: Implicit dimension choice for softmax has been deprecated. Change the call to include dim=X as an argument.\n",
      "  \n"
     ]
    }
   ],
   "source": [
    "o  =model(torch.FloatTensor(X))\n",
    "print(o.shape)\n",
    "a = model.atten(torch.FloatTensor(X))\n",
    "print(a.shape)\n"
   ]
  },
  {
   "cell_type": "code",
   "execution_count": 9,
   "metadata": {},
   "outputs": [
    {
     "name": "stdout",
     "output_type": "stream",
     "text": [
      "[9.92881775e-01 2.69904645e-04 6.61903323e-05 1.67670878e-05\n",
      " 1.27309586e-05 5.18262204e-05 2.15336098e-04 3.45898734e-05\n",
      " 3.43504595e-04 3.69943191e-05 4.08789929e-05 1.38788120e-04\n",
      " 4.64019104e-05 4.50205007e-05 2.12557425e-05 1.07356384e-04\n",
      " 3.75899835e-05 3.63383442e-05 1.20126504e-04 1.27928201e-04\n",
      " 1.32804664e-04 1.50529842e-04 1.47901577e-04 3.04753310e-04\n",
      " 1.81713385e-05 3.27092770e-04 3.37615522e-04 3.21957923e-05\n",
      " 1.38147981e-04 1.40403545e-05 3.71685273e-05 5.24733514e-05\n",
      " 1.32440091e-05 8.59433640e-05 2.92747372e-05 2.16300105e-05\n",
      " 2.63664202e-04 2.99727253e-04 1.80748757e-04 6.80800877e-05\n",
      " 8.90355514e-05 1.79210561e-04 1.35363196e-04 1.50642572e-05\n",
      " 1.19330434e-04 2.91181233e-04 7.44892968e-05 1.05301609e-04\n",
      " 1.99253540e-04 1.43480036e-04 2.73919941e-05 6.26738984e-05\n",
      " 7.98665933e-05 2.10733197e-05 7.40720861e-05 1.29254433e-04\n",
      " 3.42919302e-05 1.65683869e-05 9.95685114e-05 1.86305944e-04\n",
      " 2.82655994e-04 1.42073972e-04 1.39620970e-04 4.61044074e-05]\n"
     ]
    }
   ],
   "source": [
    "k= a.data.numpy().mean(0)\n",
    "print(k)"
   ]
  },
  {
   "cell_type": "code",
   "execution_count": null,
   "metadata": {},
   "outputs": [],
   "source": [
    "sns.barplot(x='attent')"
   ]
  },
  {
   "cell_type": "code",
   "execution_count": 10,
   "metadata": {},
   "outputs": [
    {
     "data": {
      "image/png": "[encoded data removed]",
      "text/plain": [
       "<Figure size 432x288 with 1 Axes>"
      ]
     },
     "metadata": {},
     "output_type": "display_data"
    }
   ],
   "source": [
    "\n",
    "plt.bar(range(0, 64), height=k,color='teal', edgecolor='black',label='attention')\n",
    "plt.text(40, 0.035, 'Attention(%)',fontdict={'size':20, 'color':'brown'})\n",
    "plt.show()"
   ]
  },
  {
   "cell_type": "code",
   "execution_count": null,
   "metadata": {},
   "outputs": [],
   "source": []
  },
  {
   "cell_type": "code",
   "execution_count": null,
   "metadata": {},
   "outputs": [],
   "source": []
  }
 ],
 "metadata": {
  "kernelspec": {
   "display_name": "Python 2",
   "language": "python",
   "name": "python2"
  },
  "language_info": {
   "codemirror_mode": {
    "name": "ipython",
    "version": 2
   },
   "file_extension": ".py",
   "mimetype": "text/x-python",
   "name": "python",
   "nbconvert_exporter": "python",
   "pygments_lexer": "ipython2",
   "version": "2.7.10"
  }
 },
 "nbformat": 4,
 "nbformat_minor": 2
}
