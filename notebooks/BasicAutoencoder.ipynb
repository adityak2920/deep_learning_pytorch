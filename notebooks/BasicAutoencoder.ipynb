{
 "cells": [
  {
   "cell_type": "code",
   "execution_count": 70,
   "metadata": {},
   "outputs": [],
   "source": [
    "import numpy as np\n",
    "import pandas as pd\n",
    "import torch\n",
    "from torch.autograd import Variable\n",
    "import torch.nn.functional as F\n",
    "from torch import nn\n",
    "import matplotlib.pyplot as plt\n",
    "%matplotlib inline"
   ]
  },
  {
   "cell_type": "code",
   "execution_count": 71,
   "metadata": {},
   "outputs": [
    {
     "data": {
      "text/plain": [
       "(42000, 785)"
      ]
     },
     "execution_count": 71,
     "metadata": {},
     "output_type": "execute_result"
    }
   ],
   "source": [
    "ds = pd.read_csv('/Users/adityakumar/Desktop/Machine Learning/train.csv').values\n",
    "ds.shape"
   ]
  },
  {
   "cell_type": "code",
   "execution_count": 72,
   "metadata": {},
   "outputs": [
    {
     "name": "stdout",
     "output_type": "stream",
     "text": [
      "(10000, 784) (10000,)\n",
      "(1500, 784) (1500,)\n"
     ]
    }
   ],
   "source": [
    "xtrain=ds[:10000, 1:]/255.05\n",
    "ytrain=ds[:10000, 0]\n",
    "\n",
    "xtest=ds[23000:24500, 1:]/255.0\n",
    "ytest=ds[23000:24500, 0]\n",
    "\n",
    "print(xtrain.shape, ytrain.shape)\n",
    "print(xtest.shape, ytest.shape)"
   ]
  },
  {
   "cell_type": "code",
   "execution_count": 87,
   "metadata": {},
   "outputs": [],
   "source": [
    "class AutoEncoder(nn.Module):\n",
    "    def __init__(self):\n",
    "        super(AutoEncoder, self).__init__()\n",
    "        \n",
    "        self.encoder=nn.Sequential(\n",
    "                nn.Linear(28*28, 128),\n",
    "                nn.Tanh(),\n",
    "                nn.Linear(128, 64),\n",
    "                nn.Tanh(),\n",
    "                nn.Linear(64, 12),\n",
    "                nn.Tanh(),\n",
    "                nn.Linear(12, 3))\n",
    "        \n",
    "        \n",
    "        self.decoder=nn.Sequential(\n",
    "                nn.Linear(3, 12),\n",
    "                nn.Tanh(),\n",
    "                nn.Linear(12, 64),\n",
    "                nn.Tanh(),\n",
    "                nn.Linear(64, 128),\n",
    "                nn.Tanh(),\n",
    "                nn.Linear(128, 28*28),\n",
    "                nn.Sigmoid())\n",
    "\n",
    "        \n",
    "    def forward(self, x):\n",
    "        encoded=self.encoder(x)\n",
    "        decoded=self.decoder(encoded)\n",
    "        return encoded, decoded"
   ]
  },
  {
   "cell_type": "code",
   "execution_count": 88,
   "metadata": {},
   "outputs": [],
   "source": [
    "model = AutoEncoder()"
   ]
  },
  {
   "cell_type": "code",
   "execution_count": 91,
   "metadata": {},
   "outputs": [],
   "source": [
    "optimizer  = torch.optim.Adam(model.parameters(), lr=0.005)\n",
    "loss_func = nn.MSELoss()"
   ]
  },
  {
   "cell_type": "code",
   "execution_count": 104,
   "metadata": {},
   "outputs": [],
   "source": [
    "def batch(train, labels, batch=32):\n",
    "    start=0\n",
    "    stop=start+batch\n",
    "    while start<train.shape[0]:\n",
    "        yield Variable(torch.FloatTensor(train[start:stop])), Variable(torch.FloatTensor(train[start:stop]))\n",
    "        start=stop\n",
    "        stop=start+batch"
   ]
  },
  {
   "cell_type": "code",
   "execution_count": 106,
   "metadata": {},
   "outputs": [
    {
     "name": "stdout",
     "output_type": "stream",
     "text": [
      "Epoch:  0 | Step:  0 | Loss:  0.07215369\n",
      "Epoch:  10 | Step:  0 | Loss:  0.04921706\n",
      "Epoch:  20 | Step:  0 | Loss:  0.044034995\n",
      "Epoch:  30 | Step:  0 | Loss:  0.041676454\n",
      "Epoch:  40 | Step:  0 | Loss:  0.04062917\n",
      "Epoch:  50 | Step:  0 | Loss:  0.040559668\n",
      "Epoch:  60 | Step:  0 | Loss:  0.040145524\n",
      "Epoch:  70 | Step:  0 | Loss:  0.038862005\n",
      "Epoch:  80 | Step:  0 | Loss:  0.03931379\n",
      "Epoch:  90 | Step:  0 | Loss:  0.038789038\n"
     ]
    },
    {
     "ename": "KeyboardInterrupt",
     "evalue": "",
     "output_type": "error",
     "traceback": [
      "\u001b[0;31m---------------------------------------------------------------------------\u001b[0m",
      "\u001b[0;31mKeyboardInterrupt\u001b[0m                         Traceback (most recent call last)",
      "\u001b[0;32m<ipython-input-106-31fb9f4cc738>\u001b[0m in \u001b[0;36m<module>\u001b[0;34m()\u001b[0m\n\u001b[1;32m      2\u001b[0m     \u001b[0;32mfor\u001b[0m \u001b[0mstep\u001b[0m\u001b[0;34m,\u001b[0m \u001b[0;34m(\u001b[0m\u001b[0mb_x\u001b[0m\u001b[0;34m,\u001b[0m \u001b[0mb_y\u001b[0m\u001b[0;34m)\u001b[0m \u001b[0;32min\u001b[0m \u001b[0menumerate\u001b[0m\u001b[0;34m(\u001b[0m\u001b[0mbatch\u001b[0m\u001b[0;34m(\u001b[0m\u001b[0mxtrain\u001b[0m\u001b[0;34m,\u001b[0m \u001b[0mytrain\u001b[0m\u001b[0;34m)\u001b[0m\u001b[0;34m)\u001b[0m\u001b[0;34m:\u001b[0m\u001b[0;34m\u001b[0m\u001b[0m\n\u001b[1;32m      3\u001b[0m \u001b[0;34m\u001b[0m\u001b[0m\n\u001b[0;32m----> 4\u001b[0;31m         \u001b[0moutput\u001b[0m\u001b[0;34m=\u001b[0m\u001b[0mmodel\u001b[0m\u001b[0;34m(\u001b[0m\u001b[0mb_x\u001b[0m\u001b[0;34m)\u001b[0m\u001b[0;34m\u001b[0m\u001b[0m\n\u001b[0m\u001b[1;32m      5\u001b[0m         \u001b[0;31m#print(b_y.shape)\u001b[0m\u001b[0;34m\u001b[0m\u001b[0;34m\u001b[0m\u001b[0m\n\u001b[1;32m      6\u001b[0m         \u001b[0mloss\u001b[0m\u001b[0;34m=\u001b[0m\u001b[0mloss_func\u001b[0m\u001b[0;34m(\u001b[0m\u001b[0moutput\u001b[0m\u001b[0;34m[\u001b[0m\u001b[0;36m1\u001b[0m\u001b[0;34m]\u001b[0m\u001b[0;34m,\u001b[0m \u001b[0mb_y\u001b[0m\u001b[0;34m)\u001b[0m\u001b[0;34m\u001b[0m\u001b[0m\n",
      "\u001b[0;32m/anaconda3/lib/python3.6/site-packages/torch/nn/modules/module.py\u001b[0m in \u001b[0;36m__call__\u001b[0;34m(self, *input, **kwargs)\u001b[0m\n\u001b[1;32m    489\u001b[0m             \u001b[0mresult\u001b[0m \u001b[0;34m=\u001b[0m \u001b[0mself\u001b[0m\u001b[0;34m.\u001b[0m\u001b[0m_slow_forward\u001b[0m\u001b[0;34m(\u001b[0m\u001b[0;34m*\u001b[0m\u001b[0minput\u001b[0m\u001b[0;34m,\u001b[0m \u001b[0;34m**\u001b[0m\u001b[0mkwargs\u001b[0m\u001b[0;34m)\u001b[0m\u001b[0;34m\u001b[0m\u001b[0m\n\u001b[1;32m    490\u001b[0m         \u001b[0;32melse\u001b[0m\u001b[0;34m:\u001b[0m\u001b[0;34m\u001b[0m\u001b[0m\n\u001b[0;32m--> 491\u001b[0;31m             \u001b[0mresult\u001b[0m \u001b[0;34m=\u001b[0m \u001b[0mself\u001b[0m\u001b[0;34m.\u001b[0m\u001b[0mforward\u001b[0m\u001b[0;34m(\u001b[0m\u001b[0;34m*\u001b[0m\u001b[0minput\u001b[0m\u001b[0;34m,\u001b[0m \u001b[0;34m**\u001b[0m\u001b[0mkwargs\u001b[0m\u001b[0;34m)\u001b[0m\u001b[0;34m\u001b[0m\u001b[0m\n\u001b[0m\u001b[1;32m    492\u001b[0m         \u001b[0;32mfor\u001b[0m \u001b[0mhook\u001b[0m \u001b[0;32min\u001b[0m \u001b[0mself\u001b[0m\u001b[0;34m.\u001b[0m\u001b[0m_forward_hooks\u001b[0m\u001b[0;34m.\u001b[0m\u001b[0mvalues\u001b[0m\u001b[0;34m(\u001b[0m\u001b[0;34m)\u001b[0m\u001b[0;34m:\u001b[0m\u001b[0;34m\u001b[0m\u001b[0m\n\u001b[1;32m    493\u001b[0m             \u001b[0mhook_result\u001b[0m \u001b[0;34m=\u001b[0m \u001b[0mhook\u001b[0m\u001b[0;34m(\u001b[0m\u001b[0mself\u001b[0m\u001b[0;34m,\u001b[0m \u001b[0minput\u001b[0m\u001b[0;34m,\u001b[0m \u001b[0mresult\u001b[0m\u001b[0;34m)\u001b[0m\u001b[0;34m\u001b[0m\u001b[0m\n",
      "\u001b[0;32m<ipython-input-87-173bcb32043f>\u001b[0m in \u001b[0;36mforward\u001b[0;34m(self, x)\u001b[0m\n\u001b[1;32m     25\u001b[0m \u001b[0;34m\u001b[0m\u001b[0m\n\u001b[1;32m     26\u001b[0m     \u001b[0;32mdef\u001b[0m \u001b[0mforward\u001b[0m\u001b[0;34m(\u001b[0m\u001b[0mself\u001b[0m\u001b[0;34m,\u001b[0m \u001b[0mx\u001b[0m\u001b[0;34m)\u001b[0m\u001b[0;34m:\u001b[0m\u001b[0;34m\u001b[0m\u001b[0m\n\u001b[0;32m---> 27\u001b[0;31m         \u001b[0mencoded\u001b[0m\u001b[0;34m=\u001b[0m\u001b[0mself\u001b[0m\u001b[0;34m.\u001b[0m\u001b[0mencoder\u001b[0m\u001b[0;34m(\u001b[0m\u001b[0mx\u001b[0m\u001b[0;34m)\u001b[0m\u001b[0;34m\u001b[0m\u001b[0m\n\u001b[0m\u001b[1;32m     28\u001b[0m         \u001b[0mdecoded\u001b[0m\u001b[0;34m=\u001b[0m\u001b[0mself\u001b[0m\u001b[0;34m.\u001b[0m\u001b[0mdecoder\u001b[0m\u001b[0;34m(\u001b[0m\u001b[0mencoded\u001b[0m\u001b[0;34m)\u001b[0m\u001b[0;34m\u001b[0m\u001b[0m\n\u001b[1;32m     29\u001b[0m         \u001b[0;32mreturn\u001b[0m \u001b[0mencoded\u001b[0m\u001b[0;34m,\u001b[0m \u001b[0mdecoded\u001b[0m\u001b[0;34m\u001b[0m\u001b[0m\n",
      "\u001b[0;32m/anaconda3/lib/python3.6/site-packages/torch/nn/modules/module.py\u001b[0m in \u001b[0;36m__call__\u001b[0;34m(self, *input, **kwargs)\u001b[0m\n\u001b[1;32m    489\u001b[0m             \u001b[0mresult\u001b[0m \u001b[0;34m=\u001b[0m \u001b[0mself\u001b[0m\u001b[0;34m.\u001b[0m\u001b[0m_slow_forward\u001b[0m\u001b[0;34m(\u001b[0m\u001b[0;34m*\u001b[0m\u001b[0minput\u001b[0m\u001b[0;34m,\u001b[0m \u001b[0;34m**\u001b[0m\u001b[0mkwargs\u001b[0m\u001b[0;34m)\u001b[0m\u001b[0;34m\u001b[0m\u001b[0m\n\u001b[1;32m    490\u001b[0m         \u001b[0;32melse\u001b[0m\u001b[0;34m:\u001b[0m\u001b[0;34m\u001b[0m\u001b[0m\n\u001b[0;32m--> 491\u001b[0;31m             \u001b[0mresult\u001b[0m \u001b[0;34m=\u001b[0m \u001b[0mself\u001b[0m\u001b[0;34m.\u001b[0m\u001b[0mforward\u001b[0m\u001b[0;34m(\u001b[0m\u001b[0;34m*\u001b[0m\u001b[0minput\u001b[0m\u001b[0;34m,\u001b[0m \u001b[0;34m**\u001b[0m\u001b[0mkwargs\u001b[0m\u001b[0;34m)\u001b[0m\u001b[0;34m\u001b[0m\u001b[0m\n\u001b[0m\u001b[1;32m    492\u001b[0m         \u001b[0;32mfor\u001b[0m \u001b[0mhook\u001b[0m \u001b[0;32min\u001b[0m \u001b[0mself\u001b[0m\u001b[0;34m.\u001b[0m\u001b[0m_forward_hooks\u001b[0m\u001b[0;34m.\u001b[0m\u001b[0mvalues\u001b[0m\u001b[0;34m(\u001b[0m\u001b[0;34m)\u001b[0m\u001b[0;34m:\u001b[0m\u001b[0;34m\u001b[0m\u001b[0m\n\u001b[1;32m    493\u001b[0m             \u001b[0mhook_result\u001b[0m \u001b[0;34m=\u001b[0m \u001b[0mhook\u001b[0m\u001b[0;34m(\u001b[0m\u001b[0mself\u001b[0m\u001b[0;34m,\u001b[0m \u001b[0minput\u001b[0m\u001b[0;34m,\u001b[0m \u001b[0mresult\u001b[0m\u001b[0;34m)\u001b[0m\u001b[0;34m\u001b[0m\u001b[0m\n",
      "\u001b[0;32m/anaconda3/lib/python3.6/site-packages/torch/nn/modules/container.py\u001b[0m in \u001b[0;36mforward\u001b[0;34m(self, input)\u001b[0m\n\u001b[1;32m     89\u001b[0m     \u001b[0;32mdef\u001b[0m \u001b[0mforward\u001b[0m\u001b[0;34m(\u001b[0m\u001b[0mself\u001b[0m\u001b[0;34m,\u001b[0m \u001b[0minput\u001b[0m\u001b[0;34m)\u001b[0m\u001b[0;34m:\u001b[0m\u001b[0;34m\u001b[0m\u001b[0m\n\u001b[1;32m     90\u001b[0m         \u001b[0;32mfor\u001b[0m \u001b[0mmodule\u001b[0m \u001b[0;32min\u001b[0m \u001b[0mself\u001b[0m\u001b[0;34m.\u001b[0m\u001b[0m_modules\u001b[0m\u001b[0;34m.\u001b[0m\u001b[0mvalues\u001b[0m\u001b[0;34m(\u001b[0m\u001b[0;34m)\u001b[0m\u001b[0;34m:\u001b[0m\u001b[0;34m\u001b[0m\u001b[0m\n\u001b[0;32m---> 91\u001b[0;31m             \u001b[0minput\u001b[0m \u001b[0;34m=\u001b[0m \u001b[0mmodule\u001b[0m\u001b[0;34m(\u001b[0m\u001b[0minput\u001b[0m\u001b[0;34m)\u001b[0m\u001b[0;34m\u001b[0m\u001b[0m\n\u001b[0m\u001b[1;32m     92\u001b[0m         \u001b[0;32mreturn\u001b[0m \u001b[0minput\u001b[0m\u001b[0;34m\u001b[0m\u001b[0m\n\u001b[1;32m     93\u001b[0m \u001b[0;34m\u001b[0m\u001b[0m\n",
      "\u001b[0;32m/anaconda3/lib/python3.6/site-packages/torch/nn/modules/module.py\u001b[0m in \u001b[0;36m__call__\u001b[0;34m(self, *input, **kwargs)\u001b[0m\n\u001b[1;32m    489\u001b[0m             \u001b[0mresult\u001b[0m \u001b[0;34m=\u001b[0m \u001b[0mself\u001b[0m\u001b[0;34m.\u001b[0m\u001b[0m_slow_forward\u001b[0m\u001b[0;34m(\u001b[0m\u001b[0;34m*\u001b[0m\u001b[0minput\u001b[0m\u001b[0;34m,\u001b[0m \u001b[0;34m**\u001b[0m\u001b[0mkwargs\u001b[0m\u001b[0;34m)\u001b[0m\u001b[0;34m\u001b[0m\u001b[0m\n\u001b[1;32m    490\u001b[0m         \u001b[0;32melse\u001b[0m\u001b[0;34m:\u001b[0m\u001b[0;34m\u001b[0m\u001b[0m\n\u001b[0;32m--> 491\u001b[0;31m             \u001b[0mresult\u001b[0m \u001b[0;34m=\u001b[0m \u001b[0mself\u001b[0m\u001b[0;34m.\u001b[0m\u001b[0mforward\u001b[0m\u001b[0;34m(\u001b[0m\u001b[0;34m*\u001b[0m\u001b[0minput\u001b[0m\u001b[0;34m,\u001b[0m \u001b[0;34m**\u001b[0m\u001b[0mkwargs\u001b[0m\u001b[0;34m)\u001b[0m\u001b[0;34m\u001b[0m\u001b[0m\n\u001b[0m\u001b[1;32m    492\u001b[0m         \u001b[0;32mfor\u001b[0m \u001b[0mhook\u001b[0m \u001b[0;32min\u001b[0m \u001b[0mself\u001b[0m\u001b[0;34m.\u001b[0m\u001b[0m_forward_hooks\u001b[0m\u001b[0;34m.\u001b[0m\u001b[0mvalues\u001b[0m\u001b[0;34m(\u001b[0m\u001b[0;34m)\u001b[0m\u001b[0;34m:\u001b[0m\u001b[0;34m\u001b[0m\u001b[0m\n\u001b[1;32m    493\u001b[0m             \u001b[0mhook_result\u001b[0m \u001b[0;34m=\u001b[0m \u001b[0mhook\u001b[0m\u001b[0;34m(\u001b[0m\u001b[0mself\u001b[0m\u001b[0;34m,\u001b[0m \u001b[0minput\u001b[0m\u001b[0;34m,\u001b[0m \u001b[0mresult\u001b[0m\u001b[0;34m)\u001b[0m\u001b[0;34m\u001b[0m\u001b[0m\n",
      "\u001b[0;32m/anaconda3/lib/python3.6/site-packages/torch/nn/modules/linear.py\u001b[0m in \u001b[0;36mforward\u001b[0;34m(self, input)\u001b[0m\n\u001b[1;32m     53\u001b[0m \u001b[0;34m\u001b[0m\u001b[0m\n\u001b[1;32m     54\u001b[0m     \u001b[0;32mdef\u001b[0m \u001b[0mforward\u001b[0m\u001b[0;34m(\u001b[0m\u001b[0mself\u001b[0m\u001b[0;34m,\u001b[0m \u001b[0minput\u001b[0m\u001b[0;34m)\u001b[0m\u001b[0;34m:\u001b[0m\u001b[0;34m\u001b[0m\u001b[0m\n\u001b[0;32m---> 55\u001b[0;31m         \u001b[0;32mreturn\u001b[0m \u001b[0mF\u001b[0m\u001b[0;34m.\u001b[0m\u001b[0mlinear\u001b[0m\u001b[0;34m(\u001b[0m\u001b[0minput\u001b[0m\u001b[0;34m,\u001b[0m \u001b[0mself\u001b[0m\u001b[0;34m.\u001b[0m\u001b[0mweight\u001b[0m\u001b[0;34m,\u001b[0m \u001b[0mself\u001b[0m\u001b[0;34m.\u001b[0m\u001b[0mbias\u001b[0m\u001b[0;34m)\u001b[0m\u001b[0;34m\u001b[0m\u001b[0m\n\u001b[0m\u001b[1;32m     56\u001b[0m \u001b[0;34m\u001b[0m\u001b[0m\n\u001b[1;32m     57\u001b[0m     \u001b[0;32mdef\u001b[0m \u001b[0mextra_repr\u001b[0m\u001b[0;34m(\u001b[0m\u001b[0mself\u001b[0m\u001b[0;34m)\u001b[0m\u001b[0;34m:\u001b[0m\u001b[0;34m\u001b[0m\u001b[0m\n",
      "\u001b[0;32m/anaconda3/lib/python3.6/site-packages/torch/nn/functional.py\u001b[0m in \u001b[0;36mlinear\u001b[0;34m(input, weight, bias)\u001b[0m\n\u001b[1;32m    990\u001b[0m     \u001b[0;32mif\u001b[0m \u001b[0minput\u001b[0m\u001b[0;34m.\u001b[0m\u001b[0mdim\u001b[0m\u001b[0;34m(\u001b[0m\u001b[0;34m)\u001b[0m \u001b[0;34m==\u001b[0m \u001b[0;36m2\u001b[0m \u001b[0;32mand\u001b[0m \u001b[0mbias\u001b[0m \u001b[0;32mis\u001b[0m \u001b[0;32mnot\u001b[0m \u001b[0;32mNone\u001b[0m\u001b[0;34m:\u001b[0m\u001b[0;34m\u001b[0m\u001b[0m\n\u001b[1;32m    991\u001b[0m         \u001b[0;31m# fused op is marginally faster\u001b[0m\u001b[0;34m\u001b[0m\u001b[0;34m\u001b[0m\u001b[0m\n\u001b[0;32m--> 992\u001b[0;31m         \u001b[0;32mreturn\u001b[0m \u001b[0mtorch\u001b[0m\u001b[0;34m.\u001b[0m\u001b[0maddmm\u001b[0m\u001b[0;34m(\u001b[0m\u001b[0mbias\u001b[0m\u001b[0;34m,\u001b[0m \u001b[0minput\u001b[0m\u001b[0;34m,\u001b[0m \u001b[0mweight\u001b[0m\u001b[0;34m.\u001b[0m\u001b[0mt\u001b[0m\u001b[0;34m(\u001b[0m\u001b[0;34m)\u001b[0m\u001b[0;34m)\u001b[0m\u001b[0;34m\u001b[0m\u001b[0m\n\u001b[0m\u001b[1;32m    993\u001b[0m \u001b[0;34m\u001b[0m\u001b[0m\n\u001b[1;32m    994\u001b[0m     \u001b[0moutput\u001b[0m \u001b[0;34m=\u001b[0m \u001b[0minput\u001b[0m\u001b[0;34m.\u001b[0m\u001b[0mmatmul\u001b[0m\u001b[0;34m(\u001b[0m\u001b[0mweight\u001b[0m\u001b[0;34m.\u001b[0m\u001b[0mt\u001b[0m\u001b[0;34m(\u001b[0m\u001b[0;34m)\u001b[0m\u001b[0;34m)\u001b[0m\u001b[0;34m\u001b[0m\u001b[0m\n",
      "\u001b[0;31mKeyboardInterrupt\u001b[0m: "
     ]
    }
   ],
   "source": [
    "for epoch in range(200):\n",
    "    for step, (b_x, b_y) in enumerate(batch(xtrain, ytrain)):\n",
    "\n",
    "        output=model(b_x)\n",
    "        #print(b_y.shape)\n",
    "        loss=loss_func(output[1], b_y)\n",
    "\n",
    "        optimizer.zero_grad()\n",
    "        loss.backward()\n",
    "        optimizer.step()\n",
    "\n",
    "        if step % 350 == 0 and epoch % 10 ==0:\n",
    "            test_output = model(torch.FloatTensor(xtest))\n",
    "            test_loss = loss_func(test_output[1], torch.FloatTensor(xtest))\n",
    "            loss = test_loss.data.numpy()\n",
    "            print('Epoch: ', epoch, '| Step: ', step, '| Loss: ', loss)"
   ]
  },
  {
   "cell_type": "code",
   "execution_count": 96,
   "metadata": {},
   "outputs": [],
   "source": [
    "torch.max?"
   ]
  },
  {
   "cell_type": "code",
   "execution_count": 197,
   "metadata": {},
   "outputs": [],
   "source": [
    "o = model(torch.FloatTensor(xtrain[:100]))[1].data.numpy()"
   ]
  },
  {
   "cell_type": "code",
   "execution_count": 198,
   "metadata": {},
   "outputs": [
    {
     "data": {
      "text/plain": [
       "<matplotlib.image.AxesImage at 0x11d76dcf8>"
      ]
     },
     "execution_count": 198,
     "metadata": {},
     "output_type": "execute_result"
    },
    {
     "data": {
      "image/png": "[encoded data removed]",
      "text/plain": [
       "<matplotlib.figure.Figure at 0x1187590f0>"
      ]
     },
     "metadata": {},
     "output_type": "display_data"
    },
    {
     "data": {
      "image/png": "[encoded data removed]",
      "text/plain": [
       "<matplotlib.figure.Figure at 0x11d4ebba8>"
      ]
     },
     "metadata": {},
     "output_type": "display_data"
    }
   ],
   "source": [
    "plt.figure(0)\n",
    "plt.imshow(o[42].reshape((28, 28)), cmap='gray')\n",
    "\n",
    "plt.figure(1)\n",
    "plt.imshow(xtrain[42].reshape((28, 28)), cmap='gray')"
   ]
  },
  {
   "cell_type": "code",
   "execution_count": 199,
   "metadata": {},
   "outputs": [
    {
     "name": "stdout",
     "output_type": "stream",
     "text": [
      "0.14855978\n",
      "0.9718551\n",
      "2.045767e-07\n"
     ]
    }
   ],
   "source": [
    "print(np.mean(o[42]))\n",
    "print(max(o[42]))\n",
    "print(min(o[42]))"
   ]
  },
  {
   "cell_type": "code",
   "execution_count": 200,
   "metadata": {},
   "outputs": [
    {
     "name": "stdout",
     "output_type": "stream",
     "text": [
      "784\n",
      "[1.03363582e-05 9.74896557e-06 8.19657271e-06 1.03314987e-05\n",
      " 9.59638692e-06 9.82348683e-06 9.46057480e-06 7.41550775e-06\n",
      " 7.11738221e-06 8.40369648e-06 1.05591862e-05 1.11358722e-05\n",
      " 9.78933349e-06 1.17991503e-05 8.42688951e-06 9.66006428e-06\n",
      " 1.08176318e-05 1.04298415e-05 7.38594281e-06 1.12310263e-05\n",
      " 1.02966005e-05 9.09139271e-06 8.39318818e-06 7.00549481e-06\n",
      " 9.11623192e-06 8.07773631e-06 9.00752548e-06 1.09838338e-05\n",
      " 7.03059959e-06 1.20409786e-05 9.18210662e-06 8.52727135e-06\n",
      " 1.13541300e-05 9.83620885e-06 4.59685180e-05 4.31558467e-04\n",
      " 4.18160053e-05 7.96395568e-07 9.37959703e-05 2.98284363e-06\n",
      " 1.16308111e-05 1.54784702e-05 8.98248327e-05 1.42383067e-06\n",
      " 2.37128370e-05 3.53879841e-07 2.73201954e-06 9.04243461e-06\n",
      " 4.47940874e-05 3.34365609e-06 1.09121174e-05 1.00790148e-05\n",
      " 1.16706660e-05 9.77690615e-06 9.45586635e-06 7.71345094e-06\n",
      " 8.33985723e-06 7.77962850e-06 7.67265919e-06 8.50667311e-06\n",
      " 7.98976725e-06 1.65472266e-05 1.54370297e-04 8.79962317e-06\n",
      " 2.97381356e-03 7.50207750e-04 3.61681014e-05 1.95675442e-04\n",
      " 6.28220965e-04 9.86456405e-04 5.66195871e-04 5.40438457e-04\n",
      " 2.23914089e-04 1.44474747e-04 9.52251285e-05 1.81165451e-05\n",
      " 2.04576693e-07 2.43583656e-07 2.13375347e-06 6.70632403e-07\n",
      " 7.56560939e-06 7.56498139e-06 7.66969606e-06 9.50567573e-06\n",
      " 1.18610769e-05 1.57225913e-05 7.65103050e-06 1.01112382e-05\n",
      " 8.30027147e-06 1.01094163e-04 2.41010959e-04 2.57310719e-04\n",
      " 1.22979411e-03 2.17583566e-03 6.06584537e-04 8.77528801e-04\n",
      " 2.25319108e-03 1.28288812e-03 1.79441448e-03 9.84125654e-04\n",
      " 6.40662503e-04 6.52378367e-04 6.68730354e-04 4.53263900e-04\n",
      " 2.54543178e-04 1.06967702e-04 1.12164480e-05 3.10677297e-06\n",
      " 3.67194673e-07 5.64696984e-06 1.00938478e-05 9.41713370e-06\n",
      " 1.36005701e-05 8.69889755e-06 8.03967851e-06 1.05050436e-04\n",
      " 1.40743551e-03 2.30844322e-04 1.69787416e-03 1.68555393e-03\n",
      " 3.66930198e-03 5.37955435e-03 1.22064129e-02 3.39233167e-02\n",
      " 6.62403479e-02 4.04329486e-02 1.37222549e-02 4.17076703e-03\n",
      " 2.71826284e-03 1.70221366e-03 2.14508572e-03 3.67527008e-02\n",
      " 6.21759035e-02 7.80115351e-02 3.97555232e-02 2.37555825e-03\n",
      " 6.68176945e-05 1.20841855e-06 1.28323809e-05 9.27830024e-06\n",
      " 7.63987464e-06 9.65641721e-06 6.80842004e-06 8.36940526e-05\n",
      " 1.16308229e-02 4.48767701e-03 1.45198442e-02 6.97389664e-03\n",
      " 6.89324038e-03 5.85438982e-02 1.24437094e-01 1.77770108e-01\n",
      " 1.57438993e-01 6.27496243e-02 2.32036784e-02 2.50550881e-02\n",
      " 6.75049424e-02 6.06819317e-02 7.93030038e-02 1.47353739e-01\n",
      " 1.43614456e-01 1.55442834e-01 1.60845071e-01 2.02253684e-02\n",
      " 6.27912697e-04 9.59366007e-05 4.56897988e-06 9.20212915e-06\n",
      " 8.18453555e-06 9.73208716e-06 4.57519054e-05 4.17167903e-05\n",
      " 2.12952006e-03 6.09644968e-03 7.62523245e-03 5.93127217e-03\n",
      " 4.04150523e-02 2.10134551e-01 2.70297229e-01 3.50907803e-01\n",
      " 3.04594129e-01 1.92077890e-01 1.10461451e-01 1.32357582e-01\n",
      " 1.75566614e-01 2.55389214e-01 2.48534769e-01 2.93308645e-01\n",
      " 3.05680513e-01 3.82670939e-01 2.48160109e-01 1.99315362e-02\n",
      " 2.96793925e-03 3.25966830e-04 8.57631039e-06 6.90764136e-06\n",
      " 7.03324849e-06 1.20292725e-05 4.35117863e-06 8.94605037e-05\n",
      " 7.66017055e-03 1.62688345e-02 1.57397836e-02 3.98970731e-02\n",
      " 1.85422421e-01 4.94395554e-01 5.36313236e-01 5.21419942e-01\n",
      " 4.22069401e-01 2.86678433e-01 1.90984994e-01 2.50480831e-01\n",
      " 3.25458944e-01 3.77492040e-01 4.37660217e-01 5.05125582e-01\n",
      " 5.27860820e-01 4.82144028e-01 3.32905769e-01 4.66954857e-02\n",
      " 7.51635898e-03 3.52292601e-03 5.97568214e-06 9.59772296e-06\n",
      " 1.12929329e-05 6.15163253e-06 6.57279234e-05 7.37389346e-05\n",
      " 2.41321162e-03 1.61119420e-02 2.13317648e-02 6.62543550e-02\n",
      " 3.20399255e-01 7.25356877e-01 6.71250403e-01 5.29559910e-01\n",
      " 3.89585972e-01 2.76436359e-01 2.05629826e-01 2.24722862e-01\n",
      " 2.43984342e-01 3.33059192e-01 4.67435926e-01 6.19825721e-01\n",
      " 6.26914561e-01 3.67488980e-01 2.04248965e-01 5.12967072e-02\n",
      " 7.57834548e-03 1.69125071e-03 1.84963847e-05 1.29559130e-05\n",
      " 1.03522698e-05 8.84372366e-06 4.09941858e-05 4.08905646e-04\n",
      " 1.07104275e-02 1.57328639e-02 1.99448783e-02 1.48062646e-01\n",
      " 5.89472592e-01 7.84567773e-01 6.60204470e-01 4.04484957e-01\n",
      " 2.73455709e-01 1.78574547e-01 1.03907861e-01 1.16886608e-01\n",
      " 1.05676085e-01 2.20833063e-01 4.48511422e-01 7.17126906e-01\n",
      " 7.23491192e-01 3.24449241e-01 1.23140723e-01 5.08687124e-02\n",
      " 1.21383732e-02 3.36845126e-03 2.32081511e-04 1.43255593e-05\n",
      " 7.25748896e-06 2.10586280e-04 5.58950333e-03 2.13677227e-03\n",
      " 8.63962341e-03 1.60934031e-02 5.79873696e-02 3.95702034e-01\n",
      " 7.26869285e-01 7.98082411e-01 5.26233315e-01 2.82715857e-01\n",
      " 1.44796833e-01 5.85002750e-02 5.93018755e-02 5.52525409e-02\n",
      " 5.06051555e-02 1.50899515e-01 5.47511399e-01 8.49143267e-01\n",
      " 8.01788986e-01 3.52743357e-01 6.68153539e-02 1.65886655e-02\n",
      " 6.06828649e-03 4.72804182e-04 1.10818110e-05 1.13115157e-05\n",
      " 8.10192250e-06 3.30775569e-04 6.51974697e-03 1.64991897e-03\n",
      " 3.55778961e-03 2.14436147e-02 2.30028510e-01 6.36162579e-01\n",
      " 8.26252699e-01 7.65166163e-01 3.81312788e-01 1.65733024e-01\n",
      " 6.36685118e-02 7.09111914e-02 7.95231462e-02 5.09376600e-02\n",
      " 8.93461257e-02 2.15348452e-01 7.03017712e-01 9.45509255e-01\n",
      " 8.05668056e-01 3.51684958e-01 5.98184206e-02 1.25203365e-02\n",
      " 7.23591773e-04 1.73976063e-04 1.09276800e-04 9.33850424e-06\n",
      " 9.10234121e-06 6.71392656e-04 4.06596140e-04 6.27611415e-04\n",
      " 4.81147412e-03 4.18659188e-02 4.32883114e-01 7.51862288e-01\n",
      " 8.49049330e-01 6.34472489e-01 2.66186476e-01 1.20934792e-01\n",
      " 1.05317846e-01 8.43044445e-02 4.74010631e-02 5.37269562e-02\n",
      " 1.09927095e-01 2.94782639e-01 7.96386838e-01 9.39473450e-01\n",
      " 7.54603505e-01 3.80444199e-01 6.08322583e-02 6.16942486e-03\n",
      " 5.66187256e-04 3.39094186e-06 2.23751613e-05 7.59622617e-06\n",
      " 1.14301574e-05 7.58669921e-06 7.72570002e-06 1.96491715e-06\n",
      " 2.73836870e-03 1.13074571e-01 5.52896619e-01 7.89810121e-01\n",
      " 7.95740128e-01 4.48872477e-01 1.91205427e-01 1.38364613e-01\n",
      " 1.38711616e-01 1.03362963e-01 1.00165367e-01 1.74235061e-01\n",
      " 2.36171558e-01 5.31018794e-01 8.58120978e-01 9.02036071e-01\n",
      " 6.81665003e-01 3.54300678e-01 5.96827231e-02 3.64868855e-03\n",
      " 2.01207632e-03 1.87640035e-06 1.48531635e-05 6.95934068e-05\n",
      " 9.58936016e-06 7.30606462e-06 7.26949293e-05 5.22715436e-06\n",
      " 5.97129483e-03 2.10838616e-01 5.40013373e-01 8.52494061e-01\n",
      " 7.29727209e-01 4.59068596e-01 2.80089945e-01 2.55258769e-01\n",
      " 2.37675056e-01 2.19147712e-01 2.75471419e-01 3.99410784e-01\n",
      " 5.32034636e-01 8.15919101e-01 9.10448432e-01 8.51114452e-01\n",
      " 5.64928114e-01 2.37675920e-01 5.99792525e-02 4.85303765e-03\n",
      " 2.13349774e-03 3.99520213e-05 1.41147802e-05 1.13902233e-05\n",
      " 1.00363322e-05 1.00976795e-05 1.42898643e-05 1.02607803e-04\n",
      " 2.87542418e-02 2.49264002e-01 6.02671027e-01 8.69949400e-01\n",
      " 8.43738794e-01 6.51645422e-01 5.41885674e-01 5.09188294e-01\n",
      " 5.18796802e-01 6.07702911e-01 7.40334690e-01 7.61441529e-01\n",
      " 8.25772941e-01 9.41888213e-01 9.66430843e-01 8.49785566e-01\n",
      " 5.11993706e-01 1.39972374e-01 3.49788330e-02 2.63963477e-03\n",
      " 1.30160316e-03 1.72106840e-04 8.55527105e-07 3.27128728e-05\n",
      " 1.20225395e-05 1.02827353e-05 6.08934170e-05 2.77583342e-04\n",
      " 1.18470930e-01 2.88484275e-01 5.64668000e-01 7.92543888e-01\n",
      " 8.86161506e-01 8.90414298e-01 8.57238293e-01 8.50162804e-01\n",
      " 8.57571363e-01 9.02099311e-01 9.14308250e-01 8.62802446e-01\n",
      " 8.23003411e-01 9.48094666e-01 9.71855104e-01 8.81676972e-01\n",
      " 5.18202484e-01 1.49254084e-01 1.41732981e-02 1.37091475e-03\n",
      " 1.31562946e-03 1.21952049e-04 6.44844306e-07 4.57343267e-05\n",
      " 1.05598310e-05 8.05372110e-06 5.99402047e-05 2.94319866e-03\n",
      " 9.03441235e-02 2.67765164e-01 4.16424274e-01 5.67774117e-01\n",
      " 6.91082776e-01 8.05309892e-01 8.23501766e-01 8.21467519e-01\n",
      " 7.69759715e-01 7.38817155e-01 7.38302648e-01 6.15400434e-01\n",
      " 6.74944401e-01 9.41948891e-01 9.67496872e-01 8.41385186e-01\n",
      " 4.18031156e-01 8.01056474e-02 7.13634677e-03 1.94649771e-03\n",
      " 1.21212250e-03 4.37513721e-04 1.31213848e-04 2.34834060e-05\n",
      " 7.69229428e-06 1.82653548e-05 1.71579246e-04 3.37652222e-04\n",
      " 8.33754428e-03 1.35554180e-01 2.64303684e-01 2.21457869e-01\n",
      " 3.20183009e-01 3.46295148e-01 3.52532089e-01 3.84158105e-01\n",
      " 3.54428500e-01 3.91905040e-01 4.03400451e-01 2.80249238e-01\n",
      " 4.87148643e-01 8.82885337e-01 9.41951871e-01 7.16873050e-01\n",
      " 2.14923173e-01 2.35866886e-02 4.86313691e-03 2.34617409e-03\n",
      " 8.38657958e-04 1.12511421e-04 1.02828153e-06 1.05113522e-05\n",
      " 1.01138030e-05 1.22582554e-04 8.27984550e-05 2.91494245e-04\n",
      " 1.57276401e-03 4.79202531e-03 2.28976291e-02 1.06855288e-01\n",
      " 1.30940124e-01 1.32620707e-01 1.25183180e-01 1.14349402e-01\n",
      " 1.74957350e-01 1.33650959e-01 1.19565442e-01 9.12406370e-02\n",
      " 3.94585937e-01 8.58364105e-01 8.90477061e-01 4.65290397e-01\n",
      " 1.08066313e-01 1.48601932e-02 7.68641476e-03 3.43310484e-03\n",
      " 5.85587404e-04 2.12109228e-07 1.66734003e-06 8.70194253e-06\n",
      " 9.54844108e-06 1.30076987e-05 1.56870210e-05 1.30893561e-04\n",
      " 9.60001606e-04 9.45053413e-04 5.12673345e-04 2.57227942e-03\n",
      " 3.16320509e-02 5.22180796e-02 5.71693592e-02 5.81623465e-02\n",
      " 3.83202694e-02 4.61929552e-02 7.17100799e-02 9.71567333e-02\n",
      " 3.95530909e-01 8.27822924e-01 7.93063879e-01 3.39085549e-01\n",
      " 1.03045978e-01 2.58302353e-02 9.75171570e-03 2.26939749e-03\n",
      " 1.65389804e-03 4.40817848e-06 1.73412336e-05 6.67170571e-06\n",
      " 8.75047590e-06 1.00595498e-05 1.73361377e-06 3.95818133e-05\n",
      " 5.13552455e-04 6.29520626e-04 1.70269224e-04 2.64378468e-04\n",
      " 1.77589955e-03 1.75360162e-02 3.66580822e-02 4.39083427e-02\n",
      " 4.20264639e-02 7.32787028e-02 1.00031093e-01 1.38064101e-01\n",
      " 3.20102423e-01 7.30154157e-01 6.89924479e-01 3.03820819e-01\n",
      " 1.16236798e-01 2.19527371e-02 1.31890243e-02 7.57433055e-03\n",
      " 6.33151643e-03 5.25821742e-05 1.69152027e-05 8.74160924e-06\n",
      " 7.22189725e-06 9.76186038e-06 7.09765800e-06 9.84300277e-06\n",
      " 7.90716585e-05 4.09531582e-04 1.58714582e-04 1.48136765e-04\n",
      " 4.07809421e-04 1.57634192e-03 8.87773465e-03 3.59740034e-02\n",
      " 4.66417000e-02 7.00914338e-02 6.58110976e-02 1.30577475e-01\n",
      " 2.82884896e-01 6.94306374e-01 6.30710661e-01 2.27677122e-01\n",
      " 4.75716107e-02 1.40102385e-02 5.68022719e-03 7.88259320e-03\n",
      " 6.05474086e-03 1.41364158e-04 7.76858178e-06 9.03790806e-06\n",
      " 1.14404420e-05 9.53367362e-06 5.83953397e-06 2.21585765e-06\n",
      " 3.41799459e-05 1.49542509e-04 1.09118628e-04 1.98871901e-04\n",
      " 2.71288824e-04 8.06118245e-04 1.39000569e-03 5.95230190e-03\n",
      " 2.10586730e-02 4.61974479e-02 4.70131636e-02 1.74050465e-01\n",
      " 2.94871002e-01 6.62132263e-01 6.25549436e-01 1.83817551e-01\n",
      " 2.30272952e-02 3.90908215e-03 4.64060763e-03 9.52355913e-04\n",
      " 7.27456703e-04 1.38800940e-04 1.99003807e-05 7.94481639e-06\n",
      " 9.59630415e-06 1.17464278e-05 1.85818317e-05 6.42127225e-06\n",
      " 3.74022675e-05 3.51118397e-05 4.73610271e-05 5.04085270e-04\n",
      " 6.48983754e-04 2.95791239e-03 5.81448013e-03 7.31429132e-03\n",
      " 1.41394064e-02 3.66583169e-02 5.97587228e-02 1.43105373e-01\n",
      " 9.82973799e-02 3.54998738e-01 3.37639481e-01 9.57484841e-02\n",
      " 8.41742568e-03 1.32429693e-03 3.59515846e-03 2.26938118e-05\n",
      " 2.52639898e-03 1.14642542e-04 8.42683312e-06 1.04471137e-05\n",
      " 7.72094972e-06 1.06232637e-05 1.37608868e-05 1.19748693e-05\n",
      " 6.05921878e-06 4.61143736e-06 3.02298504e-05 6.55958065e-05\n",
      " 1.58573930e-05 9.52098708e-05 3.30750365e-03 3.04608978e-03\n",
      " 8.87522195e-03 1.27446903e-02 2.05098577e-02 5.70155457e-02\n",
      " 4.10282575e-02 9.02292132e-02 3.67462002e-02 1.09231677e-02\n",
      " 6.09943224e-03 2.44109239e-03 1.97498866e-05 1.93504107e-04\n",
      " 6.06869708e-06 1.83772281e-05 9.17913894e-06 8.28586963e-06\n",
      " 7.36740503e-06 7.43098281e-06 8.95331323e-06 1.14682853e-05\n",
      " 9.33035062e-06 5.63431240e-06 1.28224303e-06 5.21075663e-07\n",
      " 3.39357427e-07 4.62050521e-05 8.68095085e-04 6.59558689e-04\n",
      " 3.72216664e-03 2.30510440e-03 7.67930993e-04 1.04151247e-03\n",
      " 2.35221884e-03 5.33958757e-03 3.50430910e-03 5.58448350e-03\n",
      " 4.07139160e-04 1.25850333e-04 7.88744160e-07 2.10049649e-04\n",
      " 9.00987925e-06 7.93328581e-06 9.55313317e-06 1.11021100e-05\n",
      " 9.33842421e-06 7.64340984e-06 1.01308124e-05 1.08586037e-05\n",
      " 7.99938880e-06 1.55812668e-05 2.32430330e-06 5.15127613e-06\n",
      " 2.55493796e-05 3.49494667e-06 1.93083833e-05 1.71773790e-05\n",
      " 2.22212431e-04 2.97075458e-04 2.80110806e-04 1.93773478e-04\n",
      " 3.12516582e-04 8.21833964e-06 4.35582479e-06 1.00629135e-04\n",
      " 2.74675904e-06 2.16253420e-06 1.31298129e-05 9.56623353e-06\n",
      " 8.46053263e-06 8.42421377e-06 1.05115332e-05 9.46057480e-06]\n"
     ]
    }
   ],
   "source": [
    "print(len(o[42]))\n",
    "print(o[42])"
   ]
  },
  {
   "cell_type": "code",
   "execution_count": 157,
   "metadata": {},
   "outputs": [],
   "source": [
    "b=o[42]"
   ]
  },
  {
   "cell_type": "code",
   "execution_count": 210,
   "metadata": {},
   "outputs": [],
   "source": [
    "for i in range(784):\n",
    "    if b[i]> 9.59638692e-06:\n",
    "\n",
    "        b[i]=0\n",
    "    else:\n",
    "        b[i]=0.97"
   ]
  },
  {
   "cell_type": "code",
   "execution_count": 211,
   "metadata": {},
   "outputs": [
    {
     "name": "stdout",
     "output_type": "stream",
     "text": [
      "[0.   0.   0.   0.   0.   0.   0.   0.   0.   0.   0.   0.   0.   0.\n",
      " 0.   0.   0.   0.   0.   0.   0.   0.   0.   0.   0.   0.   0.   0.\n",
      " 0.   0.   0.   0.   0.   0.   0.   0.   0.   0.   0.   0.   0.   0.\n",
      " 0.   0.   0.   0.   0.   0.   0.   0.   0.   0.   0.   0.   0.   0.\n",
      " 0.   0.   0.   0.   0.   0.   0.   0.   0.   0.   0.   0.   0.   0.\n",
      " 0.   0.   0.   0.   0.   0.   0.   0.   0.   0.   0.   0.   0.   0.\n",
      " 0.   0.   0.   0.   0.   0.   0.   0.   0.   0.   0.   0.   0.   0.\n",
      " 0.   0.   0.   0.   0.   0.   0.   0.   0.   0.   0.   0.   0.   0.\n",
      " 0.   0.   0.   0.   0.   0.   0.   0.   0.   0.   0.   0.   0.   0.\n",
      " 0.   0.   0.   0.   0.   0.   0.   0.   0.   0.   0.   0.   0.   0.\n",
      " 0.   0.   0.   0.   0.   0.   0.   0.   0.   0.   0.   0.   0.   0.\n",
      " 0.   0.   0.   0.   0.   0.   0.   0.   0.   0.   0.   0.   0.   0.\n",
      " 0.   0.   0.   0.   0.   0.   0.   0.   0.   0.   0.   0.   0.   0.\n",
      " 0.   0.   0.   0.   0.   0.   0.   0.   0.   0.   0.   0.   0.   0.\n",
      " 0.   0.   0.   0.   0.   0.   0.   0.   0.   0.   0.   0.   0.   0.\n",
      " 0.   0.   0.   0.   0.   0.   0.   0.   0.   0.   0.   0.   0.   0.\n",
      " 0.   0.   0.   0.   0.   0.   0.   0.   0.   0.   0.   0.   0.   0.\n",
      " 0.   0.   0.   0.   0.   0.   0.   0.   0.   0.   0.   0.   0.   0.\n",
      " 0.   0.   0.   0.   0.   0.   0.   0.   0.   0.   0.   0.   0.   0.\n",
      " 0.   0.   0.   0.   0.   0.   0.   0.   0.   0.   0.   0.   0.   0.\n",
      " 0.   0.   0.   0.   0.   0.   0.   0.   0.   0.   0.   0.   0.   0.\n",
      " 0.   0.   0.   0.   0.   0.   0.   0.   0.   0.   0.   0.   0.   0.\n",
      " 0.   0.   0.   0.   0.   0.   0.   0.   0.   0.   0.   0.   0.   0.\n",
      " 0.   0.   0.   0.   0.   0.97 0.   0.   0.   0.   0.   0.   0.   0.\n",
      " 0.   0.   0.   0.   0.   0.   0.   0.   0.   0.   0.   0.   0.   0.\n",
      " 0.   0.   0.   0.   0.   0.97 0.   0.   0.   0.   0.   0.   0.   0.\n",
      " 0.   0.   0.   0.   0.   0.   0.   0.   0.   0.   0.   0.   0.   0.\n",
      " 0.   0.   0.   0.   0.   0.   0.   0.   0.   0.   0.   0.   0.   0.\n",
      " 0.   0.   0.   0.   0.   0.   0.   0.   0.   0.   0.   0.   0.   0.\n",
      " 0.   0.   0.   0.   0.97 0.   0.   0.   0.   0.   0.   0.   0.   0.\n",
      " 0.   0.   0.   0.   0.   0.   0.   0.   0.   0.   0.   0.   0.   0.\n",
      " 0.   0.   0.   0.97 0.97 0.   0.   0.   0.   0.   0.   0.   0.   0.\n",
      " 0.   0.   0.   0.   0.   0.   0.   0.   0.   0.   0.   0.   0.   0.\n",
      " 0.97 0.   0.   0.97 0.97 0.   0.   0.   0.   0.   0.   0.   0.   0.\n",
      " 0.   0.   0.   0.   0.   0.   0.   0.   0.   0.   0.   0.   0.   0.\n",
      " 0.   0.   0.   0.97 0.97 0.   0.   0.   0.   0.   0.   0.   0.   0.\n",
      " 0.   0.   0.   0.   0.   0.   0.   0.   0.   0.   0.   0.   0.   0.\n",
      " 0.   0.   0.   0.   0.97 0.   0.   0.   0.   0.   0.   0.   0.   0.\n",
      " 0.   0.   0.   0.   0.   0.   0.   0.   0.   0.   0.   0.   0.   0.\n",
      " 0.   0.   0.   0.   0.   0.   0.   0.   0.   0.   0.   0.   0.   0.\n",
      " 0.   0.   0.   0.   0.   0.   0.   0.   0.   0.   0.   0.   0.   0.\n",
      " 0.   0.   0.   0.   0.   0.   0.   0.   0.   0.   0.   0.   0.   0.\n",
      " 0.   0.   0.   0.   0.   0.   0.   0.   0.   0.   0.   0.   0.   0.\n",
      " 0.   0.   0.   0.   0.   0.   0.   0.   0.   0.   0.   0.   0.   0.\n",
      " 0.   0.   0.   0.   0.   0.   0.   0.   0.   0.   0.   0.   0.   0.\n",
      " 0.   0.   0.   0.   0.   0.   0.   0.   0.   0.   0.   0.   0.   0.\n",
      " 0.   0.   0.   0.   0.   0.   0.   0.   0.   0.   0.   0.   0.   0.\n",
      " 0.   0.   0.   0.   0.   0.   0.   0.   0.   0.   0.   0.   0.   0.\n",
      " 0.   0.   0.   0.   0.   0.   0.   0.   0.   0.   0.   0.   0.   0.\n",
      " 0.   0.   0.   0.   0.   0.   0.   0.   0.   0.   0.   0.   0.   0.\n",
      " 0.   0.   0.   0.   0.   0.   0.   0.   0.   0.   0.   0.   0.   0.\n",
      " 0.   0.   0.   0.   0.   0.   0.   0.   0.   0.   0.   0.   0.   0.\n",
      " 0.   0.   0.   0.   0.   0.   0.   0.   0.   0.   0.   0.   0.   0.\n",
      " 0.   0.   0.   0.   0.   0.   0.   0.   0.   0.   0.   0.   0.   0.\n",
      " 0.   0.   0.   0.   0.   0.   0.   0.   0.   0.   0.   0.   0.   0.\n",
      " 0.   0.   0.   0.   0.   0.   0.   0.   0.   0.   0.   0.   0.   0.  ]\n"
     ]
    }
   ],
   "source": [
    "print(b)"
   ]
  },
  {
   "cell_type": "code",
   "execution_count": 209,
   "metadata": {},
   "outputs": [
    {
     "data": {
      "text/plain": [
       "<matplotlib.image.AxesImage at 0x11d961ef0>"
      ]
     },
     "execution_count": 209,
     "metadata": {},
     "output_type": "execute_result"
    },
    {
     "data": {
      "image/png": "[encoded data removed]",
      "text/plain": [
       "<matplotlib.figure.Figure at 0x118b077f0>"
      ]
     },
     "metadata": {},
     "output_type": "display_data"
    }
   ],
   "source": [
    "plt.figure(1)\n",
    "plt.imshow(b.reshape((28, 28)), cmap='gray')"
   ]
  },
  {
   "cell_type": "code",
   "execution_count": null,
   "metadata": {},
   "outputs": [],
   "source": []
  },
  {
   "cell_type": "code",
   "execution_count": null,
   "metadata": {},
   "outputs": [],
   "source": []
  }
 ],
 "metadata": {
  "kernelspec": {
   "display_name": "Python 3",
   "language": "python",
   "name": "python3"
  },
  "language_info": {
   "codemirror_mode": {
    "name": "ipython",
    "version": 3
   },
   "file_extension": ".py",
   "mimetype": "text/x-python",
   "name": "python",
   "nbconvert_exporter": "python",
   "pygments_lexer": "ipython3",
   "version": "3.6.6"
  }
 },
 "nbformat": 4,
 "nbformat_minor": 2
}
