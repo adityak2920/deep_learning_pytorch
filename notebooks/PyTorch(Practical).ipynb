{
 "cells": [
  {
   "cell_type": "markdown",
   "metadata": {},
   "source": [
    "## Tensor "
   ]
  },
  {
   "cell_type": "code",
   "execution_count": 65,
   "metadata": {},
   "outputs": [
    {
     "data": {
      "text/plain": [
       "<torch._C.Generator at 0x7f5c9ce5b210>"
      ]
     },
     "execution_count": 65,
     "metadata": {},
     "output_type": "execute_result"
    }
   ],
   "source": [
    "import torch\n",
    "import numpy as np\n",
    "# torch.manual_seed(7)"
   ]
  },
  {
   "cell_type": "markdown",
   "metadata": {},
   "source": [
    "### Define Tensor\n",
    "    - Fundamental Data Structure of PyTorch\n",
    "    - Multi-dimensional Array"
   ]
  },
  {
   "cell_type": "code",
   "execution_count": 78,
   "metadata": {},
   "outputs": [
    {
     "name": "stdout",
     "output_type": "stream",
     "text": [
      "tensor([[0.5209, 0.5932, 0.8797, 0.6286],\n",
      "        [0.7653, 0.1132, 0.8559, 0.6721],\n",
      "        [0.6267, 0.5691, 0.7437, 0.9592],\n",
      "        [0.3887, 0.2214, 0.3742, 0.1953],\n",
      "        [0.7405, 0.2529, 0.2332, 0.9314],\n",
      "        [0.9575, 0.5575, 0.4134, 0.4355]])\n"
     ]
    }
   ],
   "source": [
    "# torch.manual_seed(7)\n",
    "x = torch.rand(6, 4)\n",
    "print(x)\n",
    "\n",
    "# x = torch.zeros(6, 4, dtype=torch.long)\n",
    "# print(x)\n",
    "\n",
    "# x = torch.tensor([6.4, 4.6])\n",
    "# print(x)"
   ]
  },
  {
   "cell_type": "code",
   "execution_count": 77,
   "metadata": {},
   "outputs": [
    {
     "name": "stdout",
     "output_type": "stream",
     "text": [
      "torch.Size([2]) torch.Size([2]) torch.float32\n"
     ]
    }
   ],
   "source": [
    "# Get size and datatype of tensor\n",
    "\n",
    "print(x.size(), x.shape, x.dtype)\n"
   ]
  },
  {
   "cell_type": "markdown",
   "metadata": {},
   "source": [
    "### Operations on PyTorch"
   ]
  },
  {
   "cell_type": "code",
   "execution_count": 82,
   "metadata": {},
   "outputs": [
    {
     "name": "stdout",
     "output_type": "stream",
     "text": [
      "tensor([[1.1208, 0.8855, 1.7057, 0.8504],\n",
      "        [1.3662, 0.4704, 0.9222, 0.8465],\n",
      "        [1.3309, 1.2669, 0.9346, 1.3033],\n",
      "        [0.4213, 0.9902, 1.3065, 0.8588],\n",
      "        [0.9311, 1.0166, 1.1481, 1.3291],\n",
      "        [1.3756, 1.2306, 0.9777, 0.7702]])\n"
     ]
    }
   ],
   "source": [
    "y = torch.rand(6, 4)\n",
    "# print(x + y)\n",
    "\n",
    "# print(torch.add_(x, y, ))\n",
    "\n",
    "# result = torch.empty(6, 4)\n",
    "# torch.add(x, y, out=result)\n",
    "# print(result)\n",
    "\n",
    "# y.add_(x)\n",
    "# print(y)\n",
    "\n"
   ]
  },
  {
   "cell_type": "markdown",
   "metadata": {},
   "source": [
    "### NumPy and PyTorch\n"
   ]
  },
  {
   "cell_type": "code",
   "execution_count": 89,
   "metadata": {},
   "outputs": [
    {
     "name": "stdout",
     "output_type": "stream",
     "text": [
      "torch.float32\n",
      "float64\n",
      "torch.float64\n"
     ]
    }
   ],
   "source": [
    "a = torch.ones(5)\n",
    "print(a.dtype)\n",
    "\n",
    "# b = a.numpy()\n",
    "# print(b)\n",
    "\n",
    "a = np.ones(5)\n",
    "b = torch.from_numpy(a)\n",
    "# np.add(a, 1, out=a)\n",
    "print(a.dtype)\n",
    "print(b.dtype)\n",
    "# print(torch)"
   ]
  },
  {
   "cell_type": "markdown",
   "metadata": {},
   "source": [
    "### CUDA Tensors"
   ]
  },
  {
   "cell_type": "code",
   "execution_count": 90,
   "metadata": {},
   "outputs": [
    {
     "name": "stdout",
     "output_type": "stream",
     "text": [
      "tensor([[1.5209, 1.5932, 1.8797, 1.6286],\n",
      "        [1.7653, 1.1132, 1.8559, 1.6721],\n",
      "        [1.6267, 1.5691, 1.7437, 1.9592],\n",
      "        [1.3887, 1.2214, 1.3742, 1.1953],\n",
      "        [1.7405, 1.2529, 1.2332, 1.9314],\n",
      "        [1.9575, 1.5575, 1.4134, 1.4355]], device='cuda:0')\n",
      "tensor([[1.5209, 1.5932, 1.8797, 1.6286],\n",
      "        [1.7653, 1.1132, 1.8559, 1.6721],\n",
      "        [1.6267, 1.5691, 1.7437, 1.9592],\n",
      "        [1.3887, 1.2214, 1.3742, 1.1953],\n",
      "        [1.7405, 1.2529, 1.2332, 1.9314],\n",
      "        [1.9575, 1.5575, 1.4134, 1.4355]], dtype=torch.float64)\n"
     ]
    }
   ],
   "source": [
    "if torch.cuda.is_available():\n",
    "    device = torch.device(\"cuda\")          # a CUDA device object\n",
    "    y = torch.ones_like(x, device=device)  # directly create a tensor on GPU\n",
    "    x = x.to(device)                       # or just use strings ``.to(\"cuda\")``\n",
    "    z = x + y\n",
    "    print(z)\n",
    "    print(z.to(\"cpu\", torch.double))       # ``.to`` can also change dtype together!"
   ]
  },
  {
   "cell_type": "code",
   "execution_count": null,
   "metadata": {},
   "outputs": [],
   "source": []
  },
  {
   "cell_type": "code",
   "execution_count": null,
   "metadata": {},
   "outputs": [],
   "source": []
  },
  {
   "cell_type": "markdown",
   "metadata": {},
   "source": [
    "# AUTOGRAD: Automatic Differentiation"
   ]
  },
  {
   "cell_type": "code",
   "execution_count": 114,
   "metadata": {},
   "outputs": [
    {
     "name": "stdout",
     "output_type": "stream",
     "text": [
      "None\n"
     ]
    }
   ],
   "source": [
    "x = torch.ones(2, 2, requires_grad=True)\n",
    "print(x.grad)"
   ]
  },
  {
   "cell_type": "code",
   "execution_count": 115,
   "metadata": {},
   "outputs": [
    {
     "name": "stdout",
     "output_type": "stream",
     "text": [
      "tensor([[3., 3.],\n",
      "        [3., 3.]], grad_fn=<AddBackward0>)\n"
     ]
    }
   ],
   "source": [
    "y = x+2\n",
    "print(y)"
   ]
  },
  {
   "cell_type": "code",
   "execution_count": 116,
   "metadata": {},
   "outputs": [
    {
     "name": "stdout",
     "output_type": "stream",
     "text": [
      "tensor([[27., 27.],\n",
      "        [27., 27.]], grad_fn=<MulBackward0>) tensor(27., grad_fn=<MeanBackward0>)\n"
     ]
    }
   ],
   "source": [
    "z = y * y * 3\n",
    "out = z.mean()\n",
    "\n",
    "print(z, out)"
   ]
  },
  {
   "cell_type": "code",
   "execution_count": 29,
   "metadata": {},
   "outputs": [
    {
     "name": "stdout",
     "output_type": "stream",
     "text": [
      "False\n",
      "True\n",
      "<SumBackward0 object at 0x7f5c741fb748>\n"
     ]
    }
   ],
   "source": [
    "a = torch.randn(2, 2)\n",
    "a = ((a * 3) / (a - 1))\n",
    "print(a.requires_grad)\n",
    "a.requires_grad_(True)\n",
    "print(a.requires_grad)\n",
    "b = (a * a).sum()\n",
    "print(b.grad_fn)"
   ]
  },
  {
   "cell_type": "code",
   "execution_count": 122,
   "metadata": {},
   "outputs": [
    {
     "name": "stdout",
     "output_type": "stream",
     "text": [
      "tensor([[27., 27.],\n",
      "        [27., 27.]]) tensor(27., grad_fn=<MeanBackward0>)\n"
     ]
    }
   ],
   "source": [
    "# out.backward()\n",
    "out.backward(retain_graph=True)\n",
    "print(x.grad, out)"
   ]
  },
  {
   "cell_type": "code",
   "execution_count": 112,
   "metadata": {},
   "outputs": [
    {
     "name": "stdout",
     "output_type": "stream",
     "text": [
      "True\n",
      "True\n",
      "False\n"
     ]
    }
   ],
   "source": [
    "print(x.requires_grad)\n",
    "print((x**2).requires_grad)\n",
    "with torch.no_grad():\n",
    "    print((x**2).requires_grad)"
   ]
  },
  {
   "cell_type": "markdown",
   "metadata": {},
   "source": [
    "![Gradient Computation](img/gradient.jpg)"
   ]
  },
  {
   "cell_type": "markdown",
   "metadata": {},
   "source": [
    "    - with .requires_grad as True, it starts to track all operations on it and to stop tracking value can be set to False\n",
    "    - to remove tensor from computational graph x.detach() can also be used.\n",
    "    - torch.no_grad() will stop autograd engine to stop calculating gradients or backward pass.\n",
    "    "
   ]
  },
  {
   "cell_type": "code",
   "execution_count": null,
   "metadata": {},
   "outputs": [],
   "source": []
  }
 ],
 "metadata": {
  "kernelspec": {
   "display_name": "Python 3",
   "language": "python",
   "name": "python3"
  },
  "language_info": {
   "codemirror_mode": {
    "name": "ipython",
    "version": 3
   },
   "file_extension": ".py",
   "mimetype": "text/x-python",
   "name": "python",
   "nbconvert_exporter": "python",
   "pygments_lexer": "ipython3",
   "version": "3.6.8"
  }
 },
 "nbformat": 4,
 "nbformat_minor": 2
}
