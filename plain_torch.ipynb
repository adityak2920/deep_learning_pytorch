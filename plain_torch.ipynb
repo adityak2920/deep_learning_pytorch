{
 "cells": [
  {
   "cell_type": "code",
   "execution_count": 1,
   "metadata": {},
   "outputs": [],
   "source": [
    "from torch import Tensor\n",
    "from torch import nn\n",
    "import logging as log\n",
    "from typing import Optional\n",
    "from PIL import Image\n",
    "import torchvision.transforms.functional as TTF\n",
    "import torch\n",
    "import numpy as np\n",
    "\n",
    "import warnings\n",
    "warnings.filterwarnings('ignore')"
   ]
  },
  {
   "cell_type": "code",
   "execution_count": 2,
   "metadata": {},
   "outputs": [],
   "source": [
    "class Flatten(nn.Module):\n",
    "    \"Flatten `x` to a single dimension, often used at the end of a model. `full` for rank-1 tensor\"\n",
    "    def __init__(self, full:bool=False):\n",
    "        super().__init__()\n",
    "        self.full = full\n",
    "\n",
    "    def forward(self, x):\n",
    "        return x.view(-1) if self.full else x.view(x.size(0), -1)\n",
    "\n",
    "class AdaptiveConcatPool2d(nn.Module):\n",
    "    \"Layer that concats `AdaptiveAvgPool2d` and `AdaptiveMaxPool2d`.\" # from pytorch\n",
    "    def __init__(self, sz:Optional[int]=None): \n",
    "        \"Output will be 2*sz or 2 if sz is None\"\n",
    "        super().__init__()\n",
    "        self.output_size = sz or 1\n",
    "        self.ap = nn.AdaptiveAvgPool2d(self.output_size)\n",
    "        self.mp = nn.AdaptiveMaxPool2d(self.output_size)\n",
    "    def forward(self, x): return torch.cat([self.mp(x), self.ap(x)], 1)\n",
    "    \n",
    "def myhead(nf, nc):\n",
    "    return \\\n",
    "    nn.Sequential(        # the dropout is needed otherwise you cannot load the weights\n",
    "            AdaptiveConcatPool2d(),\n",
    "            Flatten(),\n",
    "            nn.BatchNorm1d(nf),\n",
    "            nn.Dropout(p=0.25),\n",
    "            nn.Linear(nf, 512),\n",
    "            nn.ReLU(True),\n",
    "            nn.BatchNorm1d(512),\n",
    "            nn.Dropout(p=0.5),\n",
    "            nn.Linear(512, nc),\n",
    "        )"
   ]
  },
  {
   "cell_type": "code",
   "execution_count": null,
   "metadata": {},
   "outputs": [],
   "source": [
    "import torch\n",
    "import torchvision\n",
    "# for densenet201\n",
    "my_model=torchvision.models.densenet201() \n",
    "\n",
    "modules=list(my_model.children())\n",
    "modules.pop(-1) \n",
    "# modules.pop(-1)\n",
    "temp=nn.Sequential(nn.Sequential(*modules))\n",
    "tempchildren=list(temp.children())\n",
    "# nc is no. of classes and and nf is no, of features(here nf will vary according to architecture like for densenet201\n",
    "# it is 3840), so to determine the value of nf just run this cell you will get a size mismatch error and then just replace\n",
    "# with the size from the error\n",
    "tempchildren.append(myhead(nf, nc))\n",
    "\n",
    "my_d201=nn.Sequential(*tempchildren)"
   ]
  },
  {
   "cell_type": "code",
   "execution_count": null,
   "metadata": {},
   "outputs": [],
   "source": [
    "# now load the model which you should have saved in classifier using \"torch.save\"\n",
    "model=my_r101\n",
    "weighties = torch.load('./name .pth')\n",
    "model.load_state_dict(weighties['state_dict'])"
   ]
  },
  {
   "cell_type": "code",
   "execution_count": null,
   "metadata": {},
   "outputs": [],
   "source": [
    "# GET THE PREDICTIONS\n",
    "img = path_of_image\n",
    "softmaxer = torch.nn.Softmax(dim=1)\n",
    "model.eval()\n",
    "image = Image.open(img)\n",
    "image = image.resize((448, 448))\n",
    "x = TTF.to_tensor(image)\n",
    "x = x.div_(255)\n",
    "x.unsqueeze_(0)\n",
    "print(x.shape)\n",
    "raw_out = model(x)\n",
    "out = softmaxer(raw_out)\n",
    "print(out[0])\n"
   ]
  },
  {
   "cell_type": "code",
   "execution_count": null,
   "metadata": {},
   "outputs": [],
   "source": []
  },
  {
   "cell_type": "code",
   "execution_count": null,
   "metadata": {},
   "outputs": [],
   "source": []
  }
 ],
 "metadata": {
  "kernelspec": {
   "display_name": "Python 3",
   "language": "python",
   "name": "python3"
  },
  "language_info": {
   "codemirror_mode": {
    "name": "ipython",
    "version": 3
   },
   "file_extension": ".py",
   "mimetype": "text/x-python",
   "name": "python",
   "nbconvert_exporter": "python",
   "pygments_lexer": "ipython3",
   "version": "3.6.8"
  }
 },
 "nbformat": 4,
 "nbformat_minor": 2
}
